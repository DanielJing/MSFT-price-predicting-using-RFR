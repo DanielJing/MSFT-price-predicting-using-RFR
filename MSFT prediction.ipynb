{
 "cells": [
  {
   "cell_type": "markdown",
   "id": "70c467c8",
   "metadata": {},
   "source": [
    "# Predicting the price of MSFT using Random Forest Regressor"
   ]
  },
  {
   "cell_type": "code",
   "execution_count": 1,
   "id": "fed2aee3",
   "metadata": {
    "ExecuteTime": {
     "end_time": "2023-01-12T05:11:44.325871Z",
     "start_time": "2023-01-12T05:11:38.869982Z"
    }
   },
   "outputs": [],
   "source": [
    "# Import libraries\n",
    "import pandas as pd \n",
    "import numpy as np \n",
    "from sklearn.ensemble import RandomForestRegressor\n",
    "import matplotlib.pyplot as plt"
   ]
  },
  {
   "cell_type": "code",
   "execution_count": 2,
   "id": "c6f5f852",
   "metadata": {
    "ExecuteTime": {
     "end_time": "2023-01-12T05:11:44.404831Z",
     "start_time": "2023-01-12T05:11:44.329883Z"
    }
   },
   "outputs": [
    {
     "data": {
      "text/html": [
       "<div>\n",
       "<style scoped>\n",
       "    .dataframe tbody tr th:only-of-type {\n",
       "        vertical-align: middle;\n",
       "    }\n",
       "\n",
       "    .dataframe tbody tr th {\n",
       "        vertical-align: top;\n",
       "    }\n",
       "\n",
       "    .dataframe thead th {\n",
       "        text-align: right;\n",
       "    }\n",
       "</style>\n",
       "<table border=\"1\" class=\"dataframe\">\n",
       "  <thead>\n",
       "    <tr style=\"text-align: right;\">\n",
       "      <th></th>\n",
       "      <th>Date</th>\n",
       "      <th>Open</th>\n",
       "      <th>High</th>\n",
       "      <th>Low</th>\n",
       "      <th>Close</th>\n",
       "      <th>Adj Close</th>\n",
       "      <th>Volume</th>\n",
       "    </tr>\n",
       "  </thead>\n",
       "  <tbody>\n",
       "    <tr>\n",
       "      <th>0</th>\n",
       "      <td>2022-01-10</td>\n",
       "      <td>309.489990</td>\n",
       "      <td>314.720001</td>\n",
       "      <td>304.690002</td>\n",
       "      <td>314.269989</td>\n",
       "      <td>311.352570</td>\n",
       "      <td>44289500</td>\n",
       "    </tr>\n",
       "    <tr>\n",
       "      <th>1</th>\n",
       "      <td>2022-01-11</td>\n",
       "      <td>313.380005</td>\n",
       "      <td>316.609985</td>\n",
       "      <td>309.890015</td>\n",
       "      <td>314.980011</td>\n",
       "      <td>312.056000</td>\n",
       "      <td>29386800</td>\n",
       "    </tr>\n",
       "    <tr>\n",
       "      <th>2</th>\n",
       "      <td>2022-01-12</td>\n",
       "      <td>319.670013</td>\n",
       "      <td>323.410004</td>\n",
       "      <td>317.079987</td>\n",
       "      <td>318.269989</td>\n",
       "      <td>315.315430</td>\n",
       "      <td>34372200</td>\n",
       "    </tr>\n",
       "    <tr>\n",
       "      <th>3</th>\n",
       "      <td>2022-01-13</td>\n",
       "      <td>320.470001</td>\n",
       "      <td>320.880005</td>\n",
       "      <td>304.000000</td>\n",
       "      <td>304.799988</td>\n",
       "      <td>301.970490</td>\n",
       "      <td>45366000</td>\n",
       "    </tr>\n",
       "    <tr>\n",
       "      <th>4</th>\n",
       "      <td>2022-01-14</td>\n",
       "      <td>304.250000</td>\n",
       "      <td>310.820007</td>\n",
       "      <td>303.750000</td>\n",
       "      <td>310.200012</td>\n",
       "      <td>307.320374</td>\n",
       "      <td>39846400</td>\n",
       "    </tr>\n",
       "    <tr>\n",
       "      <th>...</th>\n",
       "      <td>...</td>\n",
       "      <td>...</td>\n",
       "      <td>...</td>\n",
       "      <td>...</td>\n",
       "      <td>...</td>\n",
       "      <td>...</td>\n",
       "      <td>...</td>\n",
       "    </tr>\n",
       "    <tr>\n",
       "      <th>246</th>\n",
       "      <td>2023-01-03</td>\n",
       "      <td>243.080002</td>\n",
       "      <td>245.750000</td>\n",
       "      <td>237.399994</td>\n",
       "      <td>239.580002</td>\n",
       "      <td>239.580002</td>\n",
       "      <td>25740000</td>\n",
       "    </tr>\n",
       "    <tr>\n",
       "      <th>247</th>\n",
       "      <td>2023-01-04</td>\n",
       "      <td>232.279999</td>\n",
       "      <td>232.869995</td>\n",
       "      <td>225.960007</td>\n",
       "      <td>229.100006</td>\n",
       "      <td>229.100006</td>\n",
       "      <td>50623400</td>\n",
       "    </tr>\n",
       "    <tr>\n",
       "      <th>248</th>\n",
       "      <td>2023-01-05</td>\n",
       "      <td>227.199997</td>\n",
       "      <td>227.550003</td>\n",
       "      <td>221.759995</td>\n",
       "      <td>222.309998</td>\n",
       "      <td>222.309998</td>\n",
       "      <td>39585600</td>\n",
       "    </tr>\n",
       "    <tr>\n",
       "      <th>249</th>\n",
       "      <td>2023-01-06</td>\n",
       "      <td>223.000000</td>\n",
       "      <td>225.759995</td>\n",
       "      <td>219.350006</td>\n",
       "      <td>224.929993</td>\n",
       "      <td>224.929993</td>\n",
       "      <td>43597700</td>\n",
       "    </tr>\n",
       "    <tr>\n",
       "      <th>250</th>\n",
       "      <td>2023-01-09</td>\n",
       "      <td>226.449997</td>\n",
       "      <td>231.240005</td>\n",
       "      <td>226.410004</td>\n",
       "      <td>227.119995</td>\n",
       "      <td>227.119995</td>\n",
       "      <td>27323200</td>\n",
       "    </tr>\n",
       "  </tbody>\n",
       "</table>\n",
       "<p>251 rows × 7 columns</p>\n",
       "</div>"
      ],
      "text/plain": [
       "           Date        Open        High         Low       Close   Adj Close  \\\n",
       "0    2022-01-10  309.489990  314.720001  304.690002  314.269989  311.352570   \n",
       "1    2022-01-11  313.380005  316.609985  309.890015  314.980011  312.056000   \n",
       "2    2022-01-12  319.670013  323.410004  317.079987  318.269989  315.315430   \n",
       "3    2022-01-13  320.470001  320.880005  304.000000  304.799988  301.970490   \n",
       "4    2022-01-14  304.250000  310.820007  303.750000  310.200012  307.320374   \n",
       "..          ...         ...         ...         ...         ...         ...   \n",
       "246  2023-01-03  243.080002  245.750000  237.399994  239.580002  239.580002   \n",
       "247  2023-01-04  232.279999  232.869995  225.960007  229.100006  229.100006   \n",
       "248  2023-01-05  227.199997  227.550003  221.759995  222.309998  222.309998   \n",
       "249  2023-01-06  223.000000  225.759995  219.350006  224.929993  224.929993   \n",
       "250  2023-01-09  226.449997  231.240005  226.410004  227.119995  227.119995   \n",
       "\n",
       "       Volume  \n",
       "0    44289500  \n",
       "1    29386800  \n",
       "2    34372200  \n",
       "3    45366000  \n",
       "4    39846400  \n",
       "..        ...  \n",
       "246  25740000  \n",
       "247  50623400  \n",
       "248  39585600  \n",
       "249  43597700  \n",
       "250  27323200  \n",
       "\n",
       "[251 rows x 7 columns]"
      ]
     },
     "execution_count": 2,
     "metadata": {},
     "output_type": "execute_result"
    }
   ],
   "source": [
    "# Read the data\n",
    "df = pd.read_csv('MSFT.csv')\n",
    "df"
   ]
  },
  {
   "cell_type": "code",
   "execution_count": 3,
   "id": "826810d5",
   "metadata": {
    "ExecuteTime": {
     "end_time": "2023-01-12T05:11:44.943779Z",
     "start_time": "2023-01-12T05:11:44.408790Z"
    }
   },
   "outputs": [
    {
     "data": {
      "text/plain": [
       "(array([-50.,   0.,  50., 100., 150., 200., 250., 300.]),\n",
       " [Text(-50.0, 0, '2022-10-27'),\n",
       "  Text(0.0, 0, '2022-01-10'),\n",
       "  Text(50.0, 0, '2022-03-23'),\n",
       "  Text(100.0, 0, '2022-06-03'),\n",
       "  Text(150.0, 0, '2022-08-16'),\n",
       "  Text(200.0, 0, '2022-10-26'),\n",
       "  Text(250.0, 0, '2023-01-09'),\n",
       "  Text(300.0, 0, '')])"
      ]
     },
     "execution_count": 3,
     "metadata": {},
     "output_type": "execute_result"
    },
    {
     "data": {
      "image/png": "[encoded data removed]",
      "text/plain": [
       "<Figure size 640x480 with 1 Axes>"
      ]
     },
     "metadata": {},
     "output_type": "display_data"
    }
   ],
   "source": [
    "# Plot the close prices\n",
    "df.plot(x='Date', y='Close')\n",
    "plt.xticks(rotation=30)"
   ]
  },
  {
   "cell_type": "code",
   "execution_count": 4,
   "id": "b8552380",
   "metadata": {
    "ExecuteTime": {
     "end_time": "2023-01-12T05:11:44.955747Z",
     "start_time": "2023-01-12T05:11:44.948766Z"
    }
   },
   "outputs": [],
   "source": [
    "# Make the model\n",
    "model = RandomForestRegressor()"
   ]
  },
  {
   "cell_type": "code",
   "execution_count": 5,
   "id": "e5cbc4f7",
   "metadata": {
    "ExecuteTime": {
     "end_time": "2023-01-12T05:11:45.192160Z",
     "start_time": "2023-01-12T05:11:44.961733Z"
    }
   },
   "outputs": [
    {
     "data": {
      "text/html": [
       "<style>#sk-container-id-1 {color: black;background-color: white;}#sk-container-id-1 pre{padding: 0;}#sk-container-id-1 div.sk-toggleable {background-color: white;}#sk-container-id-1 label.sk-toggleable__label {cursor: pointer;display: block;width: 100%;margin-bottom: 0;padding: 0.3em;box-sizing: border-box;text-align: center;}#sk-container-id-1 label.sk-toggleable__label-arrow:before {content: \"▸\";float: left;margin-right: 0.25em;color: #696969;}#sk-container-id-1 label.sk-toggleable__label-arrow:hover:before {color: black;}#sk-container-id-1 div.sk-estimator:hover label.sk-toggleable__label-arrow:before {color: black;}#sk-container-id-1 div.sk-toggleable__content {max-height: 0;max-width: 0;overflow: hidden;text-align: left;background-color: #f0f8ff;}#sk-container-id-1 div.sk-toggleable__content pre {margin: 0.2em;color: black;border-radius: 0.25em;background-color: #f0f8ff;}#sk-container-id-1 input.sk-toggleable__control:checked~div.sk-toggleable__content {max-height: 200px;max-width: 100%;overflow: auto;}#sk-container-id-1 input.sk-toggleable__control:checked~label.sk-toggleable__label-arrow:before {content: \"▾\";}#sk-container-id-1 div.sk-estimator input.sk-toggleable__control:checked~label.sk-toggleable__label {background-color: #d4ebff;}#sk-container-id-1 div.sk-label input.sk-toggleable__control:checked~label.sk-toggleable__label {background-color: #d4ebff;}#sk-container-id-1 input.sk-hidden--visually {border: 0;clip: rect(1px 1px 1px 1px);clip: rect(1px, 1px, 1px, 1px);height: 1px;margin: -1px;overflow: hidden;padding: 0;position: absolute;width: 1px;}#sk-container-id-1 div.sk-estimator {font-family: monospace;background-color: #f0f8ff;border: 1px dotted black;border-radius: 0.25em;box-sizing: border-box;margin-bottom: 0.5em;}#sk-container-id-1 div.sk-estimator:hover {background-color: #d4ebff;}#sk-container-id-1 div.sk-parallel-item::after {content: \"\";width: 100%;border-bottom: 1px solid gray;flex-grow: 1;}#sk-container-id-1 div.sk-label:hover label.sk-toggleable__label {background-color: #d4ebff;}#sk-container-id-1 div.sk-serial::before {content: \"\";position: absolute;border-left: 1px solid gray;box-sizing: border-box;top: 0;bottom: 0;left: 50%;z-index: 0;}#sk-container-id-1 div.sk-serial {display: flex;flex-direction: column;align-items: center;background-color: white;padding-right: 0.2em;padding-left: 0.2em;position: relative;}#sk-container-id-1 div.sk-item {position: relative;z-index: 1;}#sk-container-id-1 div.sk-parallel {display: flex;align-items: stretch;justify-content: center;background-color: white;position: relative;}#sk-container-id-1 div.sk-item::before, #sk-container-id-1 div.sk-parallel-item::before {content: \"\";position: absolute;border-left: 1px solid gray;box-sizing: border-box;top: 0;bottom: 0;left: 50%;z-index: -1;}#sk-container-id-1 div.sk-parallel-item {display: flex;flex-direction: column;z-index: 1;position: relative;background-color: white;}#sk-container-id-1 div.sk-parallel-item:first-child::after {align-self: flex-end;width: 50%;}#sk-container-id-1 div.sk-parallel-item:last-child::after {align-self: flex-start;width: 50%;}#sk-container-id-1 div.sk-parallel-item:only-child::after {width: 0;}#sk-container-id-1 div.sk-dashed-wrapped {border: 1px dashed gray;margin: 0 0.4em 0.5em 0.4em;box-sizing: border-box;padding-bottom: 0.4em;background-color: white;}#sk-container-id-1 div.sk-label label {font-family: monospace;font-weight: bold;display: inline-block;line-height: 1.2em;}#sk-container-id-1 div.sk-label-container {text-align: center;}#sk-container-id-1 div.sk-container {/* jupyter's `normalize.less` sets `[hidden] { display: none; }` but bootstrap.min.css set `[hidden] { display: none !important; }` so we also need the `!important` here to be able to override the default hidden behavior on the sphinx rendered scikit-learn.org. See: https://github.com/scikit-learn/scikit-learn/issues/21755 */display: inline-block !important;position: relative;}#sk-container-id-1 div.sk-text-repr-fallback {display: none;}</style><div id=\"sk-container-id-1\" class=\"sk-top-container\"><div class=\"sk-text-repr-fallback\"><pre>RandomForestRegressor()</pre><b>In a Jupyter environment, please rerun this cell to show the HTML representation or trust the notebook. <br />On GitHub, the HTML representation is unable to render, please try loading this page with nbviewer.org.</b></div><div class=\"sk-container\" hidden><div class=\"sk-item\"><div class=\"sk-estimator sk-toggleable\"><input class=\"sk-toggleable__control sk-hidden--visually\" id=\"sk-estimator-id-1\" type=\"checkbox\" checked><label for=\"sk-estimator-id-1\" class=\"sk-toggleable__label sk-toggleable__label-arrow\">RandomForestRegressor</label><div class=\"sk-toggleable__content\"><pre>RandomForestRegressor()</pre></div></div></div></div></div>"
      ],
      "text/plain": [
       "RandomForestRegressor()"
      ]
     },
     "execution_count": 5,
     "metadata": {},
     "output_type": "execute_result"
    }
   ],
   "source": [
    "# Train the model\n",
    "X = df[['Open', 'High', 'Low', 'Volume']]\n",
    "X = X[:int(len(df)-1)]\n",
    "y = df['Close']\n",
    "y = y[:int(len(df)-1)]\n",
    "model.fit(X, y)"
   ]
  },
  {
   "cell_type": "code",
   "execution_count": 6,
   "id": "56d5dad9",
   "metadata": {
    "ExecuteTime": {
     "end_time": "2023-01-12T05:11:45.254989Z",
     "start_time": "2023-01-12T05:11:45.198143Z"
    }
   },
   "outputs": [
    {
     "name": "stdout",
     "output_type": "stream",
     "text": [
      "The score is: 0.9978577787890567\n"
     ]
    }
   ],
   "source": [
    "# Test the predictions\n",
    "pred = model.predict(X)\n",
    "# Print the predict score\n",
    "print(\"The score is:\", model.score(X, y))"
   ]
  },
  {
   "cell_type": "code",
   "execution_count": 7,
   "id": "f4eec62f",
   "metadata": {
    "ExecuteTime": {
     "end_time": "2023-01-12T05:11:45.302862Z",
     "start_time": "2023-01-12T05:11:45.259984Z"
    }
   },
   "outputs": [
    {
     "name": "stdout",
     "output_type": "stream",
     "text": [
      "The predicted value is: [227.53139797]\n",
      "The actual value is: 227.119995\n"
     ]
    }
   ],
   "source": [
    "# Predict the price\n",
    "df2 = df[['Open', 'High', 'Low', 'Volume']].tail(1)\n",
    "prediction = model.predict(df2)\n",
    "print(\"The predicted value is:\", prediction)\n",
    "print(\"The actual value is:\", df[['Close']].tail(1).values[0][0])"
   ]
  },
  {
   "cell_type": "code",
   "execution_count": null,
   "id": "002c06aa",
   "metadata": {},
   "outputs": [],
   "source": []
  }
 ],
 "metadata": {
  "kernelspec": {
   "display_name": "Python 3 (ipykernel)",
   "language": "python",
   "name": "python3"
  },
  "language_info": {
   "codemirror_mode": {
    "name": "ipython",
    "version": 3
   },
   "file_extension": ".py",
   "mimetype": "text/x-python",
   "name": "python",
   "nbconvert_exporter": "python",
   "pygments_lexer": "ipython3",
   "version": "3.9.15"
  },
  "varInspector": {
   "cols": {
    "lenName": 16,
    "lenType": 16,
    "lenVar": 40
   },
   "kernels_config": {
    "python": {
     "delete_cmd_postfix": "",
     "delete_cmd_prefix": "del ",
     "library": "var_list.py",
     "varRefreshCmd": "print(var_dic_list())"
    },
    "r": {
     "delete_cmd_postfix": ") ",
     "delete_cmd_prefix": "rm(",
     "library": "var_list.r",
     "varRefreshCmd": "cat(var_dic_list()) "
    }
   },
   "types_to_exclude": [
    "module",
    "function",
    "builtin_function_or_method",
    "instance",
    "_Feature"
   ],
   "window_display": false
  },
  "vp": {
   "vp_config_version": "1.0.0",
   "vp_menu_width": 273,
   "vp_note_display": false,
   "vp_note_width": 0,
   "vp_position": {
    "width": 278
   },
   "vp_section_display": false,
   "vp_signature": "VisualPython"
  }
 },
 "nbformat": 4,
 "nbformat_minor": 5
}
